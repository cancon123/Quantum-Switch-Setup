{
 "cells": [
  {
   "cell_type": "code",
   "execution_count": 1,
   "id": "f86212e6-0f3b-41a0-b574-c4fd9d196afd",
   "metadata": {},
   "outputs": [],
   "source": [
    "import numpy as np\n",
    "import qutip as qt\n",
    "import cmath"
   ]
  },
  {
   "cell_type": "code",
   "execution_count": 2,
   "id": "988341a0-c045-40c8-8380-325e60c67847",
   "metadata": {},
   "outputs": [],
   "source": [
    "# Swap function\n",
    "def swapPositions(list, pos1, pos2):\n",
    "     \n",
    "    list[pos1], list[pos2] = list[pos2], list[pos1]\n",
    "    return list\n",
    " \n",
    "# Driver function\n",
    "#List = [23, 65, 19, 90]\n",
    "pos1, pos2  = 2, 4\n",
    "List = [0,1,2,3,4]\n",
    "#print(swapPositions(List, pos1-1, pos2-1))"
   ]
  },
  {
   "cell_type": "markdown",
   "id": "2fd21e03-401a-4677-aa13-4eece8d00a62",
   "metadata": {},
   "source": [
    "### BS Function"
   ]
  },
  {
   "cell_type": "code",
   "execution_count": 3,
   "id": "0966ad81-c16a-4b79-b460-d2fd8bb1b1a1",
   "metadata": {},
   "outputs": [],
   "source": [
    "def BS(J, N, state, number_modes, mode1, mode2):\n",
    "    #N = 2  # number of levels in qubit state\n",
    "    #E = 1   # number of photons in the mode\n",
    "    alpha = 1 # eigenvalue of coherent state\n",
    "    t = 10  # evolution time\n",
    "    steps = 1000 #time steps\n",
    "    #J = 0.07853957008534297  # strength of the COUPLİNG for 50/50\n",
    "    #kappa = 0  # strength of the Cross-Kerr interaction\n",
    "    \n",
    "    \n",
    "    a = qt.qeye(N)\n",
    "    b = qt.tensor(qt.destroy(N), qt.qeye(N))\n",
    "    c = qt.tensor(qt.qeye(N), qt.destroy(N))\n",
    "    \n",
    "    H_TDC = J * (b.dag()*c + c.dag()*b)   # TDC, on one mode a new photon is created, on the other one is destroyed.\n",
    "    tlist = np.linspace(0, t, steps)\n",
    "    BS_all = qt.propagator(H_TDC, tlist, [], {}) \n",
    "    BS = BS_all[-1]\n",
    "    \n",
    "    #Creating a list [0,1,2,3,4] for the modes\n",
    "    initial_permute_list = list(range(number_modes))  #[0,1,2,...]\n",
    "    \n",
    "    #Swapping the modes\n",
    "    \n",
    "    pos1, pos2  = 1,mode1+1\n",
    "    \n",
    "    #swapPositions is already defined above. \n",
    "    permuted_list = swapPositions(initial_permute_list, pos1-1, pos2-1)\n",
    "\n",
    "    pos3, pos4 = 2,mode2+1\n",
    "    permuted_list2 = swapPositions(permuted_list, pos3-1, pos4-1)\n",
    "\n",
    "    \n",
    "    state_perm = state.permute(permuted_list2)\n",
    "    \n",
    "    operator_list = [BS] + [a] * (number_modes - 2)\n",
    "\n",
    "    q1 = qt.tensor(operator_list) * state_perm\n",
    "    \n",
    "    q2 = q1.permute(permuted_list)\n",
    "    \n",
    "    \n",
    "    results = []\n",
    "    results.append(q2)\n",
    "    for i in range(number_modes):\n",
    "        pt = q2.ptrace(i)\n",
    "        \n",
    "        results.append(np.trace(pt * qt.create(N) * qt.destroy(N)))\n",
    "        \n",
    "        \n",
    "    return results"
   ]
  },
  {
   "cell_type": "markdown",
   "id": "dbf3d32e-ae0b-44cb-8bd6-32d2eac33613",
   "metadata": {},
   "source": [
    "### PS"
   ]
  },
  {
   "cell_type": "code",
   "execution_count": 4,
   "id": "a44a2e81-bfa8-4564-aa58-70cfa34dee91",
   "metadata": {},
   "outputs": [],
   "source": [
    "def PS(N, phi, state, number_modes, mode1):\n",
    "    #N = 10  # number of levels in qubit state\n",
    "    t = 10  # evolution time\n",
    "    steps = 1000 #time steps\n",
    "    \n",
    "    a = qt.qeye(N)\n",
    "    \n",
    "    \n",
    "    #phi = 0.1570909090909091\n",
    "    x = [np.exp(1j*n*phi) for n in range(N)]\n",
    "    PS = qt.Qobj(np.diag(x))\n",
    "    \n",
    "    #Creating a list [0,1,2,3,4] for the modes\n",
    "    initial_permute_list = list(range(number_modes))  #[0,1,2,...]\n",
    "    \n",
    "    #Swapping the modes\n",
    "    \n",
    "    pos1, pos2  = 1,mode1+1\n",
    "    \n",
    "    #swapPositions is already defined above. \n",
    "    permuted_list = swapPositions(initial_permute_list, pos1-1, pos2-1)\n",
    "    \n",
    "    state_perm = state.permute(permuted_list)\n",
    "    \n",
    "    operator_list = [PS] + [a] * (number_modes - 1)\n",
    "\n",
    "    q1 = qt.tensor(operator_list) * state_perm\n",
    "    \n",
    "    q2 = q1.permute(permuted_list)\n",
    "    \n",
    "    \n",
    "    results = []\n",
    "    results.append(q2)\n",
    "    for i in range(number_modes):\n",
    "        pt = q2.ptrace(i)\n",
    "        results.append(np.trace(pt * qt.create(N) * qt.destroy(N)))\n",
    "        \n",
    "        \n",
    "    return results"
   ]
  },
  {
   "cell_type": "markdown",
   "id": "d3022977-a6a0-464c-aeea-fa94439da86b",
   "metadata": {},
   "source": [
    "### CKH"
   ]
  },
  {
   "cell_type": "code",
   "execution_count": 5,
   "id": "f31dd6c9-0a78-43e7-bc78-c573876bc168",
   "metadata": {},
   "outputs": [],
   "source": [
    "def CKH2(N, kappa, state, number_modes, mode1, mode2,*args): #args := the modes we want to put into the partial trace\n",
    "    #N = 10\n",
    "    #alpha = 1\n",
    "    t = 10  # evolution time\n",
    "    steps = 1000 #time steps\n",
    "    #J = 0.07853957008534297  # strength of the COUPLİNG for 50/50\n",
    "    #kappa = 0  # strength of the Cross-Kerr interaction\n",
    "\n",
    "    a = qt.qeye(N)\n",
    "    a_V = qt.tensor(qt.destroy(N), qt.qeye(N))\n",
    "    c = qt.tensor(qt.qeye(N), qt.destroy(N))\n",
    "    \n",
    "    H_int = kappa * a_V.dag() * a_V  * c.dag() * c\n",
    "    \n",
    "    tlist = np.linspace(0, t, steps)\n",
    "    U_all = qt.propagator(H_int, tlist, [], {}) \n",
    "    U = U_all[-1]\n",
    "\n",
    "    #Creating a list [0,1,2,3,4] for the modes\n",
    "    initial_permute_list = list(range(number_modes))\n",
    "    \n",
    "    #Swapping the modes\n",
    "    \n",
    "    pos1, pos2  = 1, mode1+1\n",
    "    \n",
    "    #swapPositions is already defined above. \n",
    "    permuted_list = swapPositions(initial_permute_list, pos1-1, pos2-1)\n",
    "\n",
    "    pos3, pos4 = 2,mode2+1\n",
    "    permuted_list2 = swapPositions(permuted_list, pos3-1, pos4-1)\n",
    "    state_perm = state.permute(permuted_list2)\n",
    "    \n",
    "    operator_list = [U] + [a] * (number_modes - 2)\n",
    "\n",
    "    q1 = qt.tensor(operator_list) * state_perm\n",
    "    \n",
    "    q2 = q1.permute(permuted_list)\n",
    "    \n",
    "    \n",
    "    results0 = []\n",
    "    results0.append(q2)\n",
    "    \n",
    "    pt_mode_list = [] \n",
    "    for i in args:\n",
    "        pt_mode_list.append(i)\n",
    "        \n",
    "    pt = q2.ptrace(pt_mode_list)\n",
    "    results0.append(pt)\n",
    "    alpha = (pt[1][0][N])   #|0E> \n",
    "\n",
    "    phi = np.angle(alpha)\n",
    "     \n",
    "\n",
    "    results0.append(phi)    \n",
    "    \n",
    "        \n",
    "        \n",
    "    return results0"
   ]
  },
  {
   "cell_type": "markdown",
   "id": "b57aa5f5-d536-460d-a249-f517f97a2467",
   "metadata": {},
   "source": [
    "## Identity"
   ]
  },
  {
   "cell_type": "code",
   "execution_count": 6,
   "id": "a1168d55-981f-4a63-969d-0f2bec192f67",
   "metadata": {},
   "outputs": [],
   "source": [
    "def identity(N, state, number_modes, mode1):\n",
    "    \n",
    "    a = qt.qeye(N)\n",
    "    \n",
    "\n",
    "    #Creating a list [0,1,2,3,4] for the modes\n",
    "    initial_permute_list = list(range(number_modes))  #[0,1,2,...]\n",
    "    \n",
    "    #Swapping the modes\n",
    "    \n",
    "    pos1, pos2  = 1,mode1+1\n",
    "    \n",
    "    #swapPositions is already defined above. \n",
    "    permuted_list = swapPositions(initial_permute_list, pos1-1, pos2-1)\n",
    "    \n",
    "    state_perm = state.permute(permuted_list)\n",
    "    \n",
    "    operator_list = [a] + [a] * (number_modes - 1)\n",
    "\n",
    "    q1 = qt.tensor(operator_list) * state_perm\n",
    "    \n",
    "    q2 = q1.permute(permuted_list)\n",
    "    \n",
    "    \n",
    "    results = []\n",
    "    results.append(q2)\n",
    "    for i in range(number_modes):\n",
    "        pt = q2.ptrace(i)\n",
    "        results.append(np.trace(pt * qt.create(N) * qt.destroy(N)))\n",
    "        \n",
    "        \n",
    "    return results"
   ]
  },
  {
   "cell_type": "markdown",
   "id": "fc3c2205-2521-4634-be0c-4841e712399a",
   "metadata": {},
   "source": [
    "### Measurement Function"
   ]
  },
  {
   "cell_type": "code",
   "execution_count": 7,
   "id": "a05fde34-256a-4c13-a211-143d42dfbcaa",
   "metadata": {},
   "outputs": [],
   "source": [
    "def meas(N,state,mode1,mode2):\n",
    "    results = []\n",
    "    #a = qt.qeye(N)\n",
    "    pt = state.ptrace(mode1)\n",
    "    pt2 = state.ptrace(mode2)\n",
    "    qwe = np.trace(pt * qt.create(N) * qt.destroy(N)) + np.trace(pt2 * qt.create(N) * qt.destroy(N))\n",
    "    results.append(qwe)\n",
    "    \n",
    "    return results\n",
    "\n"
   ]
  },
  {
   "cell_type": "markdown",
   "id": "c4f78681-e0fd-4cc2-872a-80a5529899fc",
   "metadata": {},
   "source": [
    "### Defining a Sigma_Z function"
   ]
  },
  {
   "cell_type": "code",
   "execution_count": 8,
   "id": "98afd6ed-e483-464a-beab-0e455626c505",
   "metadata": {},
   "outputs": [],
   "source": [
    "def sigmaz_meas(prob_mode1,prob_mode2,input_state,nm_total,ckh_mode1,ckh_mode2,select): #input state = qt.tensor(initial,probe)\n",
    "    state1 = BS(0.07853957008534297,N,input_state,nm_total,prob_mode1,prob_mode2)[0]\n",
    "    state2 = CKH2(N, kappa:=1*0.3139464882943144, state1, number_modes:=nm_total,ckh_mode1,ckh_mode2,prob_mode1,prob_mode2)[0]\n",
    "\n",
    "    if select == 0:\n",
    "        return BS(0.07853957008534297,N,state2,number_modes,prob_mode1,probe_mode2)[0]\n",
    "    else:\n",
    "        return BS(0.07853957008534297,N,state2,number_modes,prob_mode1,probe_mode2)[1:number_modes+1]"
   ]
  },
  {
   "cell_type": "markdown",
   "id": "3ef3cadb-e0ad-4f99-98ca-b0c08163ee34",
   "metadata": {},
   "source": [
    "### It worked!"
   ]
  },
  {
   "cell_type": "code",
   "execution_count": 9,
   "id": "f453c5ed-0adc-434d-9917-662eea137011",
   "metadata": {},
   "outputs": [],
   "source": [
    "alpha_values = []\n",
    "beta_values = []\n",
    "for c in np.linspace(0, 1, 20):\n",
    "    #c = 1\n",
    "    A = np.sqrt(1-c)\n",
    "    B = np.sqrt(c)\n",
    "    \n",
    "    psi_pol1 = A*(qt.tensor(qt.basis(N:=2,1),qt.basis(N,0),qt.basis(N,0),qt.basis(N,0)))  \n",
    "    \n",
    "    psi_pol2 = B*(qt.tensor(qt.basis(N:=2,0),qt.basis(N,1),qt.basis(N,0),qt.basis(N,0)))\n",
    "    \n",
    "    psi_pol = psi_pol1 + psi_pol2\n",
    "    \n",
    "    prob_state = qt.tensor(qt.basis(N,1),qt.basis(N,0))\n",
    "    \n",
    "    input_state = qt.tensor(psi_pol,prob_state)\n",
    "    \n",
    "    results = sigmaz_meas(prob_mode1:=4,probe_mode2:=5,input_state:=input_state,nm_total:=6,ckh_mode1:=4,ckh_mode2:=1,1)\n",
    "\n",
    "    alpha = results[4]\n",
    "    beta = results[5]\n",
    "    \n",
    "    alpha_values.append(alpha)\n",
    "    beta_values.append(beta)"
   ]
  },
  {
   "cell_type": "code",
   "execution_count": 10,
   "id": "327d7a71-c278-4f33-a1fc-b9417b1b8e8d",
   "metadata": {},
   "outputs": [
    {
     "data": {
      "image/png": "[encoded data removed]",
      "text/plain": [
       "<Figure size 360x216 with 1 Axes>"
      ]
     },
     "metadata": {
      "needs_background": "light"
     },
     "output_type": "display_data"
    },
    {
     "data": {
      "image/png": "[encoded data removed]",
      "text/plain": [
       "<Figure size 360x216 with 1 Axes>"
      ]
     },
     "metadata": {
      "needs_background": "light"
     },
     "output_type": "display_data"
    }
   ],
   "source": [
    "import matplotlib.pyplot as plt\n",
    "\n",
    "c_values = np.linspace(0,1,20)\n",
    "\n",
    "\n",
    "plt.figure(figsize=(5,3))\n",
    "plt.plot(c_values, [np.abs(a)**2 - np.abs(1-a)**2 for a in alpha_values], label = 'sigma_Z')\n",
    "plt.grid()\n",
    "#plt.axhline(y=0.5, color='r', linestyle='-', label = '0.5')\n",
    "plt.xlabel('c')\n",
    "plt.ylabel('Expectation Value')\n",
    "plt.legend(loc=\"upper left\")\n",
    "plt.show()\n",
    "\n",
    "plt.figure(figsize=(5,3))\n",
    "plt.plot(c_values, [2*c - 1 for c in c_values], label = 'C', color=\"g\")\n",
    "plt.grid()\n",
    "plt.xlabel('c')\n",
    "plt.ylabel('Expectation Value')\n",
    "plt.legend(loc=\"upper left\")\n",
    "plt.show()"
   ]
  },
  {
   "cell_type": "markdown",
   "id": "744b5371-5c6c-44f6-b4ce-172d47a2a8b7",
   "metadata": {},
   "source": [
    "### Defining Sigma_X Function"
   ]
  },
  {
   "cell_type": "code",
   "execution_count": 11,
   "id": "7a36b619-50d8-4d4f-b8b4-d5d720fbcf24",
   "metadata": {},
   "outputs": [],
   "source": [
    "def sigmax_meas(prob_state,prob_mode1,prob_mode2,initial_state,nm_total,ckh_mode1,ckh_mode2,prep_mode1, prep_mode2,select):\n",
    "\n",
    "    #Prep modes are the ones who are used to achieve a certain state (e.g. H) from the initial state (e.g. x+)\n",
    "    state1 = PS(N, phi:=3*np.pi/2,qt.tensor(initial_state,prob_state),nm_total,prep_mode1)[0]\n",
    "    state2 = BS(0.07853957008534297,N, state1 ,number_modes:=nm_total,prep_mode1,prep_mode2)[0]\n",
    "\n",
    "    state3 = BS(0.07853957008534297,N, state:=state2 ,number_modes,prob_mode1,prob_mode2)[0]\n",
    "    state4 = CKH2(N, kappa:=1*0.3139464882943144, state:=state3, number_modes,ckh_mode1,ckh_mode2,prob_mode1,prob_mode2)[0]\n",
    "\n",
    "    state5 = PS(N, phi:=np.pi,state4, number_modes,prob_mode1)[0]\n",
    "\n",
    "    if select == 0:\n",
    "        return BS(0.07853957008534297,N, state5 ,number_modes,prob_mode1,prob_mode2)[0]\n",
    "        \n",
    "    else:\n",
    "        return BS(0.07853957008534297,N, state5 ,number_modes,prob_mode1,prob_mode2)[1:number_modes+1]\n",
    "    \n",
    "    "
   ]
  },
  {
   "cell_type": "code",
   "execution_count": 12,
   "id": "d2c374aa-d419-4b05-b853-6b4ab0127e13",
   "metadata": {},
   "outputs": [],
   "source": [
    "alpha_values = []\n",
    "beta_values = []\n",
    "for theta in np.linspace(0, 2*np.pi, 20):\n",
    "    c = 1/2\n",
    "    A = np.sqrt(1-c)\n",
    "    B = np.sqrt(c)*np.exp(1j*theta)\n",
    "    \n",
    "    psi_pol1 = A*(qt.tensor(qt.basis(N:=2,1),qt.basis(N,0),qt.basis(N,0),qt.basis(N,0)))  \n",
    "    \n",
    "    psi_pol2 = B*(qt.tensor(qt.basis(N:=2,0),qt.basis(N,1),qt.basis(N,0),qt.basis(N,0)))\n",
    "    \n",
    "    psi_pol = psi_pol1 + psi_pol2\n",
    "    \n",
    "    prob_state = qt.tensor(qt.basis(N,1),qt.basis(N,0))\n",
    "    \n",
    "    results = sigmax_meas(prob_state:=prob_state,prob_mode1:=4,probe_mode2:=5,initial_state:=psi_pol,nm_total:=6,ckh_mode1:=4,ckh_mode2:=1,prep_mode1:=0,prep_mode2:=1,1)\n",
    "\n",
    "    alpha = results[4]\n",
    "    beta = results[5]\n",
    "    \n",
    "    alpha_values.append(alpha)\n",
    "    beta_values.append(beta)"
   ]
  },
  {
   "cell_type": "code",
   "execution_count": 13,
   "id": "8abd2cd5-ecb1-48b0-b2b2-c531192596ed",
   "metadata": {},
   "outputs": [
    {
     "data": {
      "image/png": "[encoded data removed]",
      "text/plain": [
       "<Figure size 360x216 with 1 Axes>"
      ]
     },
     "metadata": {
      "needs_background": "light"
     },
     "output_type": "display_data"
    },
    {
     "data": {
      "image/png": "[encoded data removed]",
      "text/plain": [
       "<Figure size 360x216 with 1 Axes>"
      ]
     },
     "metadata": {
      "needs_background": "light"
     },
     "output_type": "display_data"
    }
   ],
   "source": [
    "import matplotlib.pyplot as plt\n",
    "\n",
    "theta_values = np.linspace(0,2*np.pi,20)\n",
    "\n",
    "\n",
    "plt.figure(figsize=(5,3))\n",
    "plt.plot(theta_values, [np.real(a) - np.real(1-a) for a in alpha_values], label = 'sigma_X')\n",
    "plt.grid()\n",
    "#plt.axhline(y=0.5, color='r', linestyle='-', label = '0.5')\n",
    "plt.xlabel('c')\n",
    "plt.ylabel('Expectation Value')\n",
    "plt.legend(loc=\"upper left\")\n",
    "plt.show()\n",
    "\n",
    "plt.figure(figsize=(5,3))\n",
    "plt.plot(theta_values, [np.cos(theta) for theta in theta_values], label = 'Theta', color=\"g\")\n",
    "plt.grid()\n",
    "plt.xlabel('Theta')\n",
    "plt.ylabel('Expectation Value')\n",
    "plt.legend(loc=\"upper left\")\n",
    "plt.show()"
   ]
  },
  {
   "cell_type": "markdown",
   "id": "966f2188-e227-4ce7-b8cb-0a4925da5e36",
   "metadata": {},
   "source": [
    "## Sigma Y "
   ]
  },
  {
   "cell_type": "code",
   "execution_count": 17,
   "id": "92e16e33-b9ed-49ca-878b-c099ad2be318",
   "metadata": {},
   "outputs": [],
   "source": [
    "def sigmay_meas(prob_state,prob_mode1,prob_mode2,initial_state,nm_total,ckh_mode1,ckh_mode2,prep_mode1, prep_mode2,select):\n",
    "\n",
    "    #Prep modes are the ones who are used to achieve a certain state (e.g. H) from the initial state (e.g. x+)\n",
    "    state1 = PS(N, phi:=0*np.pi/2,qt.tensor(initial_state,prob_state),nm_total,prep_mode1)[0]\n",
    "    state2 = BS(0.07853957008534297,N, state1 ,number_modes:=nm_total,prep_mode1,prep_mode2)[0]\n",
    "\n",
    "    state3 = BS(0.07853957008534297,N, state:=state2 ,number_modes,prob_mode1,prob_mode2)[0]\n",
    "    state4 = CKH2(N, kappa:=1*0.3139464882943144, state:=state3, number_modes,ckh_mode1,ckh_mode2,prob_mode1,prob_mode2)[0]\n",
    "\n",
    "    state5 = PS(N, phi:=np.pi,state4, number_modes,prob_mode1)[0]\n",
    "\n",
    "    if select == 0:\n",
    "        return BS(0.07853957008534297,N, state5 ,number_modes,prob_mode1,prob_mode2)[0]\n",
    "        \n",
    "    else:\n",
    "        return BS(0.07853957008534297,N, state5 ,number_modes,prob_mode1,prob_mode2)[1:number_modes+1]    \n",
    "    \n",
    "    "
   ]
  },
  {
   "cell_type": "code",
   "execution_count": 15,
   "id": "05d9c956-9556-4f71-ac6a-f975c5fb37c5",
   "metadata": {},
   "outputs": [],
   "source": [
    "alpha_values = []\n",
    "beta_values = []\n",
    "for theta in np.linspace(0, 2*np.pi, 20):\n",
    "    c = 1/2\n",
    "    A = np.sqrt(1-c)\n",
    "    B = 1j*np.sqrt(c)*np.exp(1j*theta)\n",
    "    \n",
    "    psi_pol1 = A*(qt.tensor(qt.basis(N:=2,1),qt.basis(N,0),qt.basis(N,0),qt.basis(N,0)))  \n",
    "    \n",
    "    psi_pol2 = B*(qt.tensor(qt.basis(N:=2,0),qt.basis(N,1),qt.basis(N,0),qt.basis(N,0)))\n",
    "    \n",
    "    psi_pol = psi_pol1 + psi_pol2\n",
    "    \n",
    "    prob_state = qt.tensor(qt.basis(N,1),qt.basis(N,0))\n",
    "    \n",
    "    results = sigmay_meas(prob_state:=prob_state,prob_mode1:=4,probe_mode2:=5,initial_state:=psi_pol,nm_total:=6,ckh_mode1:=4,ckh_mode2:=1,prep_mode1:=0,prep_mode2:=1,1)\n",
    "\n",
    "    alpha = results[4]\n",
    "    beta = results[5]\n",
    "    \n",
    "    alpha_values.append(alpha)\n",
    "    beta_values.append(beta)"
   ]
  },
  {
   "cell_type": "code",
   "execution_count": 16,
   "id": "ef223e27-a047-4b99-9f14-92e549188b84",
   "metadata": {},
   "outputs": [
    {
     "data": {
      "image/png": "[encoded data removed]",
      "text/plain": [
       "<Figure size 360x216 with 1 Axes>"
      ]
     },
     "metadata": {
      "needs_background": "light"
     },
     "output_type": "display_data"
    },
    {
     "data": {
      "image/png": "[encoded data removed]",
      "text/plain": [
       "<Figure size 360x216 with 1 Axes>"
      ]
     },
     "metadata": {
      "needs_background": "light"
     },
     "output_type": "display_data"
    }
   ],
   "source": [
    "import matplotlib.pyplot as plt\n",
    "\n",
    "theta_values = np.linspace(0,2*np.pi,20)\n",
    "\n",
    "\n",
    "plt.figure(figsize=(5,3))\n",
    "plt.plot(theta_values, [np.real(a) - np.real(1-a) for a in alpha_values], label = 'sigma_X')\n",
    "plt.grid()\n",
    "#plt.axhline(y=0.5, color='r', linestyle='-', label = '0.5')\n",
    "plt.xlabel('c')\n",
    "plt.ylabel('Expectation Value')\n",
    "plt.legend(loc=\"upper left\")\n",
    "plt.show()\n",
    "\n",
    "plt.figure(figsize=(5,3))\n",
    "plt.plot(theta_values, [np.cos(theta) for theta in theta_values], label = 'Theta', color=\"g\")\n",
    "plt.grid()\n",
    "plt.xlabel('Theta')\n",
    "plt.ylabel('Expectation Value')\n",
    "plt.legend(loc=\"upper left\")\n",
    "plt.show()"
   ]
  },
  {
   "cell_type": "markdown",
   "id": "a001ba0c-ce0e-4da1-8233-95083a7c3e7f",
   "metadata": {},
   "source": [
    "# All of them work!!"
   ]
  },
  {
   "cell_type": "code",
   "execution_count": null,
   "id": "a8796093-6e98-47e9-ba79-1cf4723fde97",
   "metadata": {},
   "outputs": [],
   "source": []
  }
 ],
 "metadata": {
  "kernelspec": {
   "display_name": "Python 3",
   "language": "python",
   "name": "python3"
  },
  "language_info": {
   "codemirror_mode": {
    "name": "ipython",
    "version": 3
   },
   "file_extension": ".py",
   "mimetype": "text/x-python",
   "name": "python",
   "nbconvert_exporter": "python",
   "pygments_lexer": "ipython3",
   "version": "3.9.1"
  }
 },
 "nbformat": 4,
 "nbformat_minor": 5
}
