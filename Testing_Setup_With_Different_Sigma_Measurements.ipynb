{
 "cells": [
  {
   "cell_type": "code",
   "execution_count": 2,
   "id": "f86212e6-0f3b-41a0-b574-c4fd9d196afd",
   "metadata": {},
   "outputs": [],
   "source": [
    "import numpy as np\n",
    "import qutip as qt\n",
    "import cmath"
   ]
  },
  {
   "cell_type": "code",
   "execution_count": 3,
   "id": "988341a0-c045-40c8-8380-325e60c67847",
   "metadata": {},
   "outputs": [],
   "source": [
    "# Swap function\n",
    "def swapPositions(list, pos1, pos2):\n",
    "     \n",
    "    list[pos1], list[pos2] = list[pos2], list[pos1]\n",
    "    return list\n",
    " \n",
    "# Driver function\n",
    "#List = [23, 65, 19, 90]\n",
    "pos1, pos2  = 2, 4\n",
    "List = [0,1,2,3,4]\n",
    "#print(swapPositions(List, pos1-1, pos2-1))"
   ]
  },
  {
   "cell_type": "markdown",
   "id": "2fd21e03-401a-4677-aa13-4eece8d00a62",
   "metadata": {},
   "source": [
    "### BS Function"
   ]
  },
  {
   "cell_type": "code",
   "execution_count": 4,
   "id": "0966ad81-c16a-4b79-b460-d2fd8bb1b1a1",
   "metadata": {},
   "outputs": [],
   "source": [
    "def BS(J, N, state, number_modes, mode1, mode2):\n",
    "    #N = 2  # number of levels in qubit state\n",
    "    #E = 1   # number of photons in the mode\n",
    "    alpha = 1 # eigenvalue of coherent state\n",
    "    t = 10  # evolution time\n",
    "    steps = 1000 #time steps\n",
    "    #J = 0.07853957008534297  # strength of the COUPLİNG for 50/50\n",
    "    #kappa = 0  # strength of the Cross-Kerr interaction\n",
    "    \n",
    "    \n",
    "    a = qt.qeye(N)\n",
    "    b = qt.tensor(qt.destroy(N), qt.qeye(N))\n",
    "    c = qt.tensor(qt.qeye(N), qt.destroy(N))\n",
    "    \n",
    "    H_TDC = J * (b.dag()*c + c.dag()*b)   # TDC, on one mode a new photon is created, on the other one is destroyed.\n",
    "    tlist = np.linspace(0, t, steps)\n",
    "    BS_all = qt.propagator(H_TDC, tlist, [], {}) \n",
    "    BS = BS_all[-1]\n",
    "    \n",
    "    #Creating a list [0,1,2,3,4] for the modes\n",
    "    initial_permute_list = list(range(number_modes))  #[0,1,2,...]\n",
    "    \n",
    "    #Swapping the modes\n",
    "    \n",
    "    pos1, pos2  = 1,mode1+1\n",
    "    \n",
    "    #swapPositions is already defined above. \n",
    "    permuted_list = swapPositions(initial_permute_list, pos1-1, pos2-1)\n",
    "\n",
    "    pos3, pos4 = 2,mode2+1\n",
    "    permuted_list2 = swapPositions(permuted_list, pos3-1, pos4-1)\n",
    "\n",
    "    \n",
    "    state_perm = state.permute(permuted_list2)\n",
    "    \n",
    "    operator_list = [BS] + [a] * (number_modes - 2)\n",
    "\n",
    "    q1 = qt.tensor(operator_list) * state_perm\n",
    "    \n",
    "    q2 = q1.permute(permuted_list)\n",
    "    \n",
    "    \n",
    "    results = []\n",
    "    results.append(q2)\n",
    "    for i in range(number_modes):\n",
    "        pt = q2.ptrace(i)\n",
    "        \n",
    "        results.append(np.trace(pt * qt.create(N) * qt.destroy(N)))\n",
    "        \n",
    "        \n",
    "    return results"
   ]
  },
  {
   "cell_type": "markdown",
   "id": "dbf3d32e-ae0b-44cb-8bd6-32d2eac33613",
   "metadata": {},
   "source": [
    "### PS"
   ]
  },
  {
   "cell_type": "code",
   "execution_count": 5,
   "id": "a44a2e81-bfa8-4564-aa58-70cfa34dee91",
   "metadata": {},
   "outputs": [],
   "source": [
    "def PS(N, phi, state, number_modes, mode1):\n",
    "    #N = 10  # number of levels in qubit state\n",
    "    t = 10  # evolution time\n",
    "    steps = 1000 #time steps\n",
    "    \n",
    "    a = qt.qeye(N)\n",
    "    \n",
    "    \n",
    "    #phi = 0.1570909090909091\n",
    "    x = [np.exp(1j*n*phi) for n in range(N)]\n",
    "    PS = qt.Qobj(np.diag(x))\n",
    "    \n",
    "    #Creating a list [0,1,2,3,4] for the modes\n",
    "    initial_permute_list = list(range(number_modes))  #[0,1,2,...]\n",
    "    \n",
    "    #Swapping the modes\n",
    "    \n",
    "    pos1, pos2  = 1,mode1+1\n",
    "    \n",
    "    #swapPositions is already defined above. \n",
    "    permuted_list = swapPositions(initial_permute_list, pos1-1, pos2-1)\n",
    "    \n",
    "    state_perm = state.permute(permuted_list)\n",
    "    \n",
    "    operator_list = [PS] + [a] * (number_modes - 1)\n",
    "\n",
    "    q1 = qt.tensor(operator_list) * state_perm\n",
    "    \n",
    "    q2 = q1.permute(permuted_list)\n",
    "    \n",
    "    \n",
    "    results = []\n",
    "    results.append(q2)\n",
    "    for i in range(number_modes):\n",
    "        pt = q2.ptrace(i)\n",
    "        results.append(np.trace(pt * qt.create(N) * qt.destroy(N)))\n",
    "        \n",
    "        \n",
    "    return results"
   ]
  },
  {
   "cell_type": "markdown",
   "id": "d3022977-a6a0-464c-aeea-fa94439da86b",
   "metadata": {},
   "source": [
    "### CKH"
   ]
  },
  {
   "cell_type": "code",
   "execution_count": 6,
   "id": "f31dd6c9-0a78-43e7-bc78-c573876bc168",
   "metadata": {},
   "outputs": [],
   "source": [
    "def CKH2(N, kappa, state, number_modes, mode1, mode2,*args): #args := the modes we want to put into the partial trace\n",
    "    #N = 10\n",
    "    #alpha = 1\n",
    "    t = 10  # evolution time\n",
    "    steps = 1000 #time steps\n",
    "    #J = 0.07853957008534297  # strength of the COUPLİNG for 50/50\n",
    "    #kappa = 0  # strength of the Cross-Kerr interaction\n",
    "\n",
    "    a = qt.qeye(N)\n",
    "    a_V = qt.tensor(qt.destroy(N), qt.qeye(N))\n",
    "    c = qt.tensor(qt.qeye(N), qt.destroy(N))\n",
    "    \n",
    "    H_int = kappa * a_V.dag() * a_V  * c.dag() * c\n",
    "    \n",
    "    tlist = np.linspace(0, t, steps)\n",
    "    U_all = qt.propagator(H_int, tlist, [], {}) \n",
    "    U = U_all[-1]\n",
    "\n",
    "    #Creating a list [0,1,2,3,4] for the modes\n",
    "    initial_permute_list = list(range(number_modes))\n",
    "    \n",
    "    #Swapping the modes\n",
    "    \n",
    "    pos1, pos2  = 1, mode1+1\n",
    "    \n",
    "    #swapPositions is already defined above. \n",
    "    permuted_list = swapPositions(initial_permute_list, pos1-1, pos2-1)\n",
    "\n",
    "    pos3, pos4 = 2,mode2+1\n",
    "    permuted_list2 = swapPositions(permuted_list, pos3-1, pos4-1)\n",
    "    state_perm = state.permute(permuted_list2)\n",
    "    \n",
    "    operator_list = [U] + [a] * (number_modes - 2)\n",
    "\n",
    "    q1 = qt.tensor(operator_list) * state_perm\n",
    "    \n",
    "    q2 = q1.permute(permuted_list)\n",
    "    \n",
    "    \n",
    "    results0 = []\n",
    "    results0.append(q2)\n",
    "    \n",
    "    pt_mode_list = [] \n",
    "    for i in args:\n",
    "        pt_mode_list.append(i)\n",
    "        \n",
    "    pt = q2.ptrace(pt_mode_list)\n",
    "    results0.append(pt)\n",
    "    alpha = (pt[1][0][N])   #|0E> \n",
    "\n",
    "    phi = np.angle(alpha)\n",
    "     \n",
    "\n",
    "    results0.append(phi)    \n",
    "    \n",
    "        \n",
    "        \n",
    "    return results0"
   ]
  },
  {
   "cell_type": "markdown",
   "id": "b57aa5f5-d536-460d-a249-f517f97a2467",
   "metadata": {},
   "source": [
    "## Identity"
   ]
  },
  {
   "cell_type": "code",
   "execution_count": 7,
   "id": "a1168d55-981f-4a63-969d-0f2bec192f67",
   "metadata": {},
   "outputs": [],
   "source": [
    "def identity(N, state, number_modes, mode1):\n",
    "    \n",
    "    a = qt.qeye(N)\n",
    "    \n",
    "\n",
    "    #Creating a list [0,1,2,3,4] for the modes\n",
    "    initial_permute_list = list(range(number_modes))  #[0,1,2,...]\n",
    "    \n",
    "    #Swapping the modes\n",
    "    \n",
    "    pos1, pos2  = 1,mode1+1\n",
    "    \n",
    "    #swapPositions is already defined above. \n",
    "    permuted_list = swapPositions(initial_permute_list, pos1-1, pos2-1)\n",
    "    \n",
    "    state_perm = state.permute(permuted_list)\n",
    "    \n",
    "    operator_list = [a] + [a] * (number_modes - 1)\n",
    "\n",
    "    q1 = qt.tensor(operator_list) * state_perm\n",
    "    \n",
    "    q2 = q1.permute(permuted_list)\n",
    "    \n",
    "    \n",
    "    results = []\n",
    "    results.append(q2)\n",
    "    for i in range(number_modes):\n",
    "        pt = q2.ptrace(i)\n",
    "        results.append(np.trace(pt * qt.create(N) * qt.destroy(N)))\n",
    "        \n",
    "        \n",
    "    return results"
   ]
  },
  {
   "cell_type": "markdown",
   "id": "fc3c2205-2521-4634-be0c-4841e712399a",
   "metadata": {},
   "source": [
    "### Measurement Function"
   ]
  },
  {
   "cell_type": "code",
   "execution_count": 8,
   "id": "a05fde34-256a-4c13-a211-143d42dfbcaa",
   "metadata": {},
   "outputs": [],
   "source": [
    "def meas(N,state,mode1,mode2):\n",
    "    results = []\n",
    "    #a = qt.qeye(N)\n",
    "    pt = state.ptrace(mode1)\n",
    "    pt2 = state.ptrace(mode2)\n",
    "    qwe = np.trace(pt * qt.create(N) * qt.destroy(N)) + np.trace(pt2 * qt.create(N) * qt.destroy(N))\n",
    "    results.append(qwe)\n",
    "    \n",
    "    return results\n",
    "\n"
   ]
  },
  {
   "cell_type": "markdown",
   "id": "7571a48f-ef52-479b-9025-15f44dcc2354",
   "metadata": {},
   "source": [
    "# The Sigma Function Here Are Specifally Defined For The Setup!!"
   ]
  },
  {
   "cell_type": "markdown",
   "id": "c4f78681-e0fd-4cc2-872a-80a5529899fc",
   "metadata": {},
   "source": [
    "### Defining a Sigma_Z function"
   ]
  },
  {
   "cell_type": "code",
   "execution_count": 9,
   "id": "9f49fa54-e5f3-4a07-93a4-f6e85021072d",
   "metadata": {},
   "outputs": [],
   "source": [
    "def sigmaz_meas(prob_mode1,prob_mode2,initial_state,nm_total,ckh_mode1,ckh_mode2,prep_mode1, prep_mode2,select):\n",
    "\n",
    "    #state3 = BS(0.07853957008534297,N, state:=state2 ,number_modes,prob_mode1,prob_mode2)[0]\n",
    "    state3 = CKH2(N, kappa:=1*0.3139464882943144, state:=initial_state, number_modes,ckh_mode1,ckh_mode2,prob_mode1,prob_mode2)[0]\n",
    "\n",
    "    \n",
    "\n",
    "    if select == 0:\n",
    "        return state3\n",
    "        \n",
    "    else:\n",
    "        return CKH2(N, kappa:=1*0.3139464882943144, state:=initial_state, number_modes,ckh_mode1,ckh_mode2,prob_mode1,prob_mode2)[1]"
   ]
  },
  {
   "cell_type": "markdown",
   "id": "744b5371-5c6c-44f6-b4ce-172d47a2a8b7",
   "metadata": {},
   "source": [
    "### Defining Sigma_X Function"
   ]
  },
  {
   "cell_type": "code",
   "execution_count": 10,
   "id": "7a36b619-50d8-4d4f-b8b4-d5d720fbcf24",
   "metadata": {},
   "outputs": [],
   "source": [
    "def sigmax_meas(prob_mode1,prob_mode2,initial_state,nm_total,ckh_mode1,ckh_mode2,prep_mode1, prep_mode2,select):\n",
    "\n",
    "    #Prep modes are the ones who are used to achieve a certain state (e.g. H) from the initial state (e.g. x+)\n",
    "    state1 = PS(N, phi:=3*np.pi/2,qt.tensor(initial_state),nm_total,prep_mode1)[0]\n",
    "    state2 = BS(0.07853957008534297,N, state1 ,number_modes:=nm_total,prep_mode1,prep_mode2)[0]\n",
    "\n",
    "    #state3 = BS(0.07853957008534297,N, state:=state2 ,number_modes,prob_mode1,prob_mode2)[0]\n",
    "    state3 = CKH2(N, kappa:=1*0.3139464882943144, state:=state2, number_modes,ckh_mode1,ckh_mode2,prob_mode1,prob_mode2)[0]\n",
    "\n",
    "    state4 = PS(N, phi:=np.pi,state3, number_modes,prep_mode1)[0]\n",
    "    #state4 = state2\n",
    "\n",
    "    #Getting the state back\n",
    "    state5 = BS(0.07853957008534297,N, state4 ,number_modes:=nm_total,prep_mode1,prep_mode2)[0]\n",
    "    state6 = PS(N, phi:=3*np.pi/2,state5,nm_total,prep_mode1)[0]\n",
    "    \n",
    "    \n",
    "\n",
    "    if select == 0:\n",
    "        return state6\n",
    "        \n",
    "    else:\n",
    "        return PS(N, phi:=3*np.pi/2,state5,nm_total,prep_mode1)[1:number_modes+1]\n",
    "    \n",
    "    "
   ]
  },
  {
   "cell_type": "markdown",
   "id": "966f2188-e227-4ce7-b8cb-0a4925da5e36",
   "metadata": {},
   "source": [
    "## Sigma Y "
   ]
  },
  {
   "cell_type": "code",
   "execution_count": 11,
   "id": "92e16e33-b9ed-49ca-878b-c099ad2be318",
   "metadata": {},
   "outputs": [],
   "source": [
    "def sigmay_meas(prob_mode1,prob_mode2,initial_state,nm_total,ckh_mode1,ckh_mode2,prep_mode1, prep_mode2,select):\n",
    "\n",
    "    #Prep modes are the ones who are used to achieve a certain state (e.g. H) from the initial state (e.g. x+)\n",
    "    state1 = PS(N, phi:=0*np.pi/2,state:=initial_state,nm_total,prep_mode1)[0]\n",
    "    state2 = BS(0.07853957008534297,N, state1 ,number_modes:=nm_total,prep_mode1,prep_mode2)[0]\n",
    "\n",
    "    #state3 = BS(0.07853957008534297,N, state:=state2 ,number_modes,prob_mode1,prob_mode2)[0]\n",
    "    state3 = CKH2(N, kappa:=1*0.3139464882943144, state:=state2, number_modes,ckh_mode1,ckh_mode2,prob_mode1,prob_mode2)[0]\n",
    "\n",
    "    state4 = PS(N, phi:=np.pi,state3, number_modes,prob_mode1)[0]\n",
    "\n",
    "    #Getting the state back\n",
    "    state5 = BS(0.07853957008534297,N, state4 ,number_modes:=nm_total,prep_mode1,prep_mode2)[0]\n",
    "    state6 = PS(N, phi,state5,nm_total,prep_mode1)[0]\n",
    "    \n",
    "    if select == 0:\n",
    "        return state6\n",
    "        \n",
    "    else:\n",
    "        return PS(N, phi,state5,nm_total,prep_mode1)[1:number_modes+1]    \n",
    "    \n",
    "    "
   ]
  },
  {
   "cell_type": "markdown",
   "id": "6b396b82-e1a7-4cef-b2f0-4cec87b12734",
   "metadata": {},
   "source": [
    "## 1,0,0,0"
   ]
  },
  {
   "cell_type": "code",
   "execution_count": 80,
   "id": "b8294661-958c-4dd9-b37f-a129f99d361e",
   "metadata": {},
   "outputs": [],
   "source": [
    "#initial_state = qt.tensor(qt.basis(N:=2,1),qt.basis(N,0),qt.basis(N,0),qt.basis(N,0)) \n",
    "\n",
    "initial_state = 1/np.sqrt(2)*(qt.tensor(qt.basis(N:=2,1),qt.basis(N,0),qt.basis(N,0),qt.basis(N,0)) + qt.tensor(qt.basis(N,0),qt.basis(N,1),qt.basis(N,0),qt.basis(N,0)))\n",
    " \n",
    "#initial_state_1 = qt.tensor(qt.basis(N:=10,0),qt.basis(N,2))\n",
    "#initial_state_2 = qt.tensor(qt.basis(N:=10,0),qt.basis(N,0))\n",
    "prob_state_A = qt.tensor(qt.basis(N,1),qt.basis(N,0))\n",
    "prob_state_B = qt.tensor(qt.basis(N,1),qt.basis(N,0))\n",
    "#prob_state_A = qt.tensor(qt.babasis(N,1),qt.basis(N,0))\n",
    "prob_state = qt.tensor(prob_state_A, prob_state_B)"
   ]
  },
  {
   "cell_type": "code",
   "execution_count": 74,
   "id": "b50951a8-29dc-4435-88b5-bb88ace4484b",
   "metadata": {},
   "outputs": [
    {
     "data": {
      "text/plain": [
       "[(0.4999999999999999+0j),\n",
       " (0.4999999999999999+0j),\n",
       " (0.4999999999999999+0j),\n",
       " (0.4999999999999999+0j)]"
      ]
     },
     "execution_count": 74,
     "metadata": {},
     "output_type": "execute_result"
    }
   ],
   "source": [
    "state1 = BS(0.07853957008534297,N, initial_state,4,0,2)[0]\n",
    "BS(0.07853957008534297,N, initial_state,4,0,2)[1:5]"
   ]
  },
  {
   "cell_type": "code",
   "execution_count": 75,
   "id": "4d741ab9-c626-4699-bfc0-ce123a627ce1",
   "metadata": {},
   "outputs": [
    {
     "data": {
      "text/plain": [
       "[(0.4999999999999999+0j),\n",
       " (0.4999999999999999+0j),\n",
       " (0.4999999999999999+0j),\n",
       " (0.4999999999999999+0j)]"
      ]
     },
     "execution_count": 75,
     "metadata": {},
     "output_type": "execute_result"
    }
   ],
   "source": [
    "state2 = BS(0.07853957008534297,N, state1 ,number_modes:=4,3,1)[0]\n",
    "BS(0.07853957008534297,N, state1,4,3,1)[1:5]"
   ]
  },
  {
   "cell_type": "markdown",
   "id": "8c18071f-ee4d-4bc7-9adf-9381b750369c",
   "metadata": {},
   "source": [
    "### A1"
   ]
  },
  {
   "cell_type": "code",
   "execution_count": 76,
   "id": "669c2739-7190-4a7e-a2c2-0da30043098c",
   "metadata": {},
   "outputs": [],
   "source": [
    "#z_state = sigmaz_meas(prob_mode1:=4,probe_mode2:=5,input_state:=qt.tensor(state2,prob_state),nm_total:=8,ckh_mode1:=4,ckh_mode2:=1,0)\n",
    "#z_state"
   ]
  },
  {
   "cell_type": "code",
   "execution_count": 77,
   "id": "155d1b7a-c5f9-4f04-86eb-350a735aad18",
   "metadata": {},
   "outputs": [
    {
     "data": {
      "text/plain": [
       "[(0.49999999999999983+0j),\n",
       " (0.49999999999999983+0j),\n",
       " (0.49999999999999983+0j),\n",
       " (0.49999999999999983+0j),\n",
       " (0.5000028290693578+0j),\n",
       " (0.49999717093064183+0j),\n",
       " (0.9999999999999997+0j),\n",
       " 0j]"
      ]
     },
     "execution_count": 77,
     "metadata": {},
     "output_type": "execute_result"
    }
   ],
   "source": [
    "ckh_state_A1_1 = BS(0.07853957008534297,N, qt.tensor(state2,prob_state),number_modes:=8,4,5)[0]\n",
    "BS(0.07853957008534297,N,qt.tensor(state2,prob_state),number_modes,4,5)[1:number_modes+1]"
   ]
  },
  {
   "cell_type": "code",
   "execution_count": 78,
   "id": "c0b8ad1f-cc91-439f-9108-d685bda63218",
   "metadata": {},
   "outputs": [
    {
     "data": {
      "text/plain": [
       "[(0.4999999999999997+0j),\n",
       " (0.4999999999999997+0j),\n",
       " (0.4999999999999997+0j),\n",
       " (0.4999999999999997+0j),\n",
       " (0.5000028290693578+0j),\n",
       " (0.49999717093064167+0j),\n",
       " (0.5000028290693577+0j),\n",
       " (0.4999971709306417+0j)]"
      ]
     },
     "execution_count": 78,
     "metadata": {},
     "output_type": "execute_result"
    }
   ],
   "source": [
    "ckh_state_A1_2 = BS(0.07853957008534297,N, state:=ckh_state_A1_1,number_modes:=8,6,7)[0]\n",
    "BS(0.07853957008534297,N,state,number_modes,6,7)[1:number_modes+1]"
   ]
  },
  {
   "cell_type": "code",
   "execution_count": 79,
   "id": "58fe4ca3-817c-4341-92cb-79f04d63e9bc",
   "metadata": {},
   "outputs": [],
   "source": [
    "path1_A = sigmax_meas(prob_mode1:=4,probe_mode2:=5,initial_state:=ckh_state_A1_2,nm_total:=8,ckh_mode1:=4,ckh_mode2:=1,prep_mode1:=0,prep_mode2:=1,0)"
   ]
  },
  {
   "cell_type": "code",
   "execution_count": 61,
   "id": "83def578-bcd7-4c1d-8f22-8a4e43d3e6ac",
   "metadata": {},
   "outputs": [],
   "source": [
    "path1_AB = sigmaz_meas(prob_mode1:=6,prob_mode2:=7,path1_A,nm_total,ckh_mode1:=6,ckh_mode2:=1,prep_mode1:=0, prep_mode2:=1,0)"
   ]
  },
  {
   "cell_type": "code",
   "execution_count": 62,
   "id": "8e18e77d-aa9f-4a1e-bbf5-a42f0098caf7",
   "metadata": {},
   "outputs": [],
   "source": [
    "path1_AB_2_B = sigmaz_meas(prob_mode1:=6,prob_mode2:=7,path1_AB,nm_total,ckh_mode1:=3,ckh_mode2:=6,prep_mode1:=2, prep_mode2:=3,0)"
   ]
  },
  {
   "cell_type": "code",
   "execution_count": 63,
   "id": "e9749323-9d26-469a-86b8-d17d6c72a123",
   "metadata": {},
   "outputs": [],
   "source": [
    "path1_AB_2_BA = sigmax_meas(prob_mode1:=4,probe_mode2:=5,initial_state:=path1_AB_2_B,nm_total:=8,ckh_mode1:=3,ckh_mode2:=4,prep_mode1:=2,prep_mode2:=3,0)"
   ]
  },
  {
   "cell_type": "code",
   "execution_count": null,
   "id": "8075604d-df67-468b-8b7e-80da1776fb18",
   "metadata": {},
   "outputs": [],
   "source": []
  },
  {
   "cell_type": "code",
   "execution_count": 64,
   "id": "30dc83fa-3173-4227-9299-ade1adf262bd",
   "metadata": {},
   "outputs": [
    {
     "data": {
      "text/plain": [
       "[(0.12500113381666247+0j),\n",
       " (0.2499999999855808+0j),\n",
       " (0.37500056146071026+0j),\n",
       " (0.24999830473704487+0j),\n",
       " (0.500002829069357+0j),\n",
       " (0.4999971709306413+0j),\n",
       " (0.500002829069357+0j),\n",
       " (0.4999971709306413+0j)]"
      ]
     },
     "execution_count": 64,
     "metadata": {},
     "output_type": "execute_result"
    }
   ],
   "source": [
    "ckh_state_A2_4 = BS(0.07853957008534297,N, path1_AB_2_BA ,number_modes,0,2)[0]\n",
    "BS(0.07853957008534297,N, path1_AB_2_BA ,number_modes,0,2)[1:9]"
   ]
  },
  {
   "cell_type": "code",
   "execution_count": 65,
   "id": "2085e3b8-61bf-4c74-a8e6-437a0f4609d4",
   "metadata": {},
   "outputs": [
    {
     "data": {
      "text/plain": [
       "[(0.12500113381666247+0j),\n",
       " (0.12500113380383185+0j),\n",
       " (0.37500056146071026+0j),\n",
       " (0.3749971709187938+0j),\n",
       " (0.5000028290693571+0j),\n",
       " (0.4999971709306413+0j),\n",
       " (0.500002829069357+0j),\n",
       " (0.49999717093064133+0j)]"
      ]
     },
     "execution_count": 65,
     "metadata": {},
     "output_type": "execute_result"
    }
   ],
   "source": [
    "ckh_state_A2_5 = BS(0.07853957008534297,N, ckh_state_A2_4 ,number_modes,3,1)[0]\n",
    "BS(0.07853957008534297,N, ckh_state_A2_4 ,number_modes,3,1)[1:9]"
   ]
  },
  {
   "cell_type": "code",
   "execution_count": 66,
   "id": "9f6aab30-a5b8-4f74-8436-1605cf3914d0",
   "metadata": {},
   "outputs": [
    {
     "data": {
      "text/plain": [
       "[(0.12500113381666245+0j),\n",
       " (0.1250011338038318+0j),\n",
       " (0.37500056146071015+0j),\n",
       " (0.3749971709187937+0j),\n",
       " (0.24999943855348833+0j),\n",
       " (0.7500005614465098+0j),\n",
       " (0.5000028290693569+0j),\n",
       " (0.4999971709306411+0j)]"
      ]
     },
     "execution_count": 66,
     "metadata": {},
     "output_type": "execute_result"
    }
   ],
   "source": [
    "ckh_state_A2_6 = BS(0.07853957008534297,N, ckh_state_A2_5 ,number_modes,4,5)[0]\n",
    "BS(0.07853957008534297,N, ckh_state_A2_5 ,number_modes,4,5)[1:9]"
   ]
  },
  {
   "cell_type": "code",
   "execution_count": 67,
   "id": "6ead6092-537a-4414-9730-6ea40f136f88",
   "metadata": {},
   "outputs": [
    {
     "data": {
      "text/plain": [
       "[(0.12500113381666242+0j),\n",
       " (0.12500113380383177+0j),\n",
       " (0.37500056146071015+0j),\n",
       " (0.37499717091879353+0j),\n",
       " (0.24999943855348833+0j),\n",
       " (0.7500005614465095+0j),\n",
       " (0.4999980240016614+0j),\n",
       " (0.5000019759983364+0j)]"
      ]
     },
     "execution_count": 67,
     "metadata": {},
     "output_type": "execute_result"
    }
   ],
   "source": [
    "ckh_state_A2_7 = BS(0.07853957008534297,N, ckh_state_A2_6 ,number_modes,6,7)[0]\n",
    "BS(0.07853957008534297,N, ckh_state_A2_6 ,number_modes,6,7)[1:9]"
   ]
  },
  {
   "cell_type": "code",
   "execution_count": 68,
   "id": "a8796093-6e98-47e9-ba79-1cf4723fde97",
   "metadata": {},
   "outputs": [],
   "source": [
    "n4n6 = qt.tensor(qt.qeye(N),qt.qeye(N),qt.qeye(N),qt.qeye(N),qt.destroy(N)*qt.create(N),qt.qeye(N),qt.destroy(N)*qt.create(N),qt.qeye(N))\n",
    "n4n7 = qt.tensor(qt.qeye(N),qt.qeye(N),qt.qeye(N),qt.qeye(N),qt.destroy(N)*qt.create(N),qt.qeye(N),qt.qeye(N),qt.destroy(N)*qt.create(N))\n",
    "n5n6 = qt.tensor(qt.qeye(N),qt.qeye(N),qt.qeye(N),qt.qeye(N),qt.qeye(N),qt.destroy(N)*qt.create(N),qt.destroy(N)*qt.create(N),qt.qeye(N))\n",
    "n5n7 = qt.tensor(qt.qeye(N),qt.qeye(N),qt.qeye(N),qt.qeye(N),qt.qeye(N),qt.destroy(N)*qt.create(N),qt.qeye(N),qt.destroy(N)*qt.create(N))"
   ]
  },
  {
   "cell_type": "code",
   "execution_count": 69,
   "id": "6ebf7551-4dd8-45c2-8980-38208ac8f61f",
   "metadata": {},
   "outputs": [
    {
     "data": {
      "text/latex": [
       "Quantum object: dims = [[1], [1]], shape = (1, 1), type = bra $ \\\\ \\left(\\begin{matrix}0.375\\\\\\end{matrix}\\right)$"
      ],
      "text/plain": [
       "Quantum object: dims = [[1], [1]], shape = (1, 1), type = bra\n",
       "Qobj data =\n",
       "[[0.37500367]]"
      ]
     },
     "execution_count": 69,
     "metadata": {},
     "output_type": "execute_result"
    }
   ],
   "source": [
    "ckh_state_A2_7.dag() * n4n6 * ckh_state_A2_7"
   ]
  },
  {
   "cell_type": "code",
   "execution_count": 70,
   "id": "a08e7ed4-0c22-4b80-9726-5a197503fb2b",
   "metadata": {},
   "outputs": [
    {
     "data": {
      "text/latex": [
       "Quantum object: dims = [[1], [1]], shape = (1, 1), type = bra $ \\\\ \\left(\\begin{matrix}0.375\\\\\\end{matrix}\\right)$"
      ],
      "text/plain": [
       "Quantum object: dims = [[1], [1]], shape = (1, 1), type = bra\n",
       "Qobj data =\n",
       "[[0.37499689]]"
      ]
     },
     "execution_count": 70,
     "metadata": {},
     "output_type": "execute_result"
    }
   ],
   "source": [
    "ckh_state_A2_7.dag() * n4n7 * ckh_state_A2_7"
   ]
  },
  {
   "cell_type": "code",
   "execution_count": 71,
   "id": "75954553-4b4d-4acc-81bb-671af9ff6ea4",
   "metadata": {},
   "outputs": [
    {
     "data": {
      "text/latex": [
       "Quantum object: dims = [[1], [1]], shape = (1, 1), type = bra $ \\\\ \\left(\\begin{matrix}0.125\\\\\\end{matrix}\\right)$"
      ],
      "text/plain": [
       "Quantum object: dims = [[1], [1]], shape = (1, 1), type = bra\n",
       "Qobj data =\n",
       "[[0.1249983]]"
      ]
     },
     "execution_count": 71,
     "metadata": {},
     "output_type": "execute_result"
    }
   ],
   "source": [
    "ckh_state_A2_7.dag() * n5n6 * ckh_state_A2_7"
   ]
  },
  {
   "cell_type": "code",
   "execution_count": 72,
   "id": "b6e0a332-abf4-4d4e-be7c-3c237c5d3e06",
   "metadata": {},
   "outputs": [
    {
     "data": {
      "text/latex": [
       "Quantum object: dims = [[1], [1]], shape = (1, 1), type = bra $ \\\\ \\left(\\begin{matrix}0.125\\\\\\end{matrix}\\right)$"
      ],
      "text/plain": [
       "Quantum object: dims = [[1], [1]], shape = (1, 1), type = bra\n",
       "Qobj data =\n",
       "[[0.12500113]]"
      ]
     },
     "execution_count": 72,
     "metadata": {},
     "output_type": "execute_result"
    }
   ],
   "source": [
    "ckh_state_A2_7.dag() * n5n7 * ckh_state_A2_7"
   ]
  },
  {
   "cell_type": "code",
   "execution_count": null,
   "id": "20ebcbd2-6034-4a31-a48a-4b56ac879a28",
   "metadata": {},
   "outputs": [],
   "source": []
  },
  {
   "cell_type": "code",
   "execution_count": null,
   "id": "68647903-780c-4a59-ab70-b7ba7aea80fd",
   "metadata": {},
   "outputs": [],
   "source": []
  },
  {
   "cell_type": "code",
   "execution_count": null,
   "id": "d28350d7-a893-460b-9b9f-edb045f26b57",
   "metadata": {},
   "outputs": [],
   "source": []
  }
 ],
 "metadata": {
  "kernelspec": {
   "display_name": "Python 3",
   "language": "python",
   "name": "python3"
  },
  "language_info": {
   "codemirror_mode": {
    "name": "ipython",
    "version": 3
   },
   "file_extension": ".py",
   "mimetype": "text/x-python",
   "name": "python",
   "nbconvert_exporter": "python",
   "pygments_lexer": "ipython3",
   "version": "3.9.1"
  }
 },
 "nbformat": 4,
 "nbformat_minor": 5
}
